{
 "cells": [
  {
   "cell_type": "markdown",
   "metadata": {},
   "source": [
    "## Algoritmo para calcular la desviación típica\n",
    "- Calcular la media: La media (o promedio) de un conjunto de datos es la suma de todos los valores dividida por el número de valores.\n",
    "- Calcular las desviaciones cuadráticas: Para cada valor del conjunto de datos, restar la media y elevar el resultado al cuadrado.\n",
    "- Calcular la varianza: La varianza es la media de las desviaciones cuadráticas.\n",
    "- Calcular la desviación típica: La desviación típica es la raíz cuadrada de la varianza."
   ]
  },
  {
   "cell_type": "markdown",
   "metadata": {},
   "source": [
    "## Definir datos"
   ]
  },
  {
   "cell_type": "code",
   "execution_count": 19,
   "metadata": {},
   "outputs": [],
   "source": [
    "datos = [10, 12, 23, 23, 16, 23, 21, 16]"
   ]
  },
  {
   "cell_type": "markdown",
   "metadata": {},
   "source": [
    "## Calcular la media:\n",
    "\n",
    "Aquí se calcula la media del conjunto de datos. n es el número de elementos en la lista datos."
   ]
  },
  {
   "cell_type": "code",
   "execution_count": 14,
   "metadata": {},
   "outputs": [
    {
     "data": {
      "text/plain": [
       "18.0"
      ]
     },
     "execution_count": 14,
     "metadata": {},
     "output_type": "execute_result"
    }
   ],
   "source": [
    "n = len(datos)\n",
    "media = sum(datos) / n\n",
    "\n",
    "media"
   ]
  },
  {
   "cell_type": "markdown",
   "metadata": {},
   "source": [
    "## Calcular las desviaciones cuadráticas:\n",
    "\n",
    "Se utiliza una lista por comprensión para calcular la desviación cuadrática de cada valor en el conjunto de datos respecto a la media."
   ]
  },
  {
   "cell_type": "code",
   "execution_count": 11,
   "metadata": {},
   "outputs": [
    {
     "data": {
      "text/plain": [
       "192.0"
      ]
     },
     "execution_count": 11,
     "metadata": {},
     "output_type": "execute_result"
    }
   ],
   "source": [
    "desviaciones_cuadraticas = 0\n",
    "\n",
    "for x in datos:\n",
    "    desviaciones_cuadraticas += (x - media) ** 2\n",
    "    \n",
    "desviaciones_cuadraticas"
   ]
  },
  {
   "cell_type": "markdown",
   "metadata": {},
   "source": [
    "## Calcular la varianza:\n",
    "\n",
    "La varianza es la media de las desviaciones cuadráticas."
   ]
  },
  {
   "cell_type": "code",
   "execution_count": 12,
   "metadata": {},
   "outputs": [
    {
     "data": {
      "text/plain": [
       "24.0"
      ]
     },
     "execution_count": 12,
     "metadata": {},
     "output_type": "execute_result"
    }
   ],
   "source": [
    "varianza = desviaciones_cuadraticas / n\n",
    "\n",
    "varianza"
   ]
  },
  {
   "cell_type": "markdown",
   "metadata": {},
   "source": [
    "## Calcular la desviación típica:\n",
    "\n",
    "La desviación típica es la raíz cuadrada de la varianza."
   ]
  },
  {
   "cell_type": "code",
   "execution_count": 18,
   "metadata": {},
   "outputs": [
    {
     "data": {
      "text/plain": [
       "4.898979485566356"
      ]
     },
     "execution_count": 18,
     "metadata": {},
     "output_type": "execute_result"
    }
   ],
   "source": [
    "desviacion_tipica = varianza ** (1/2)\n",
    "\n",
    "desviacion_tipica"
   ]
  }
 ],
 "metadata": {
  "kernelspec": {
   "display_name": "venv",
   "language": "python",
   "name": "python3"
  },
  "language_info": {
   "codemirror_mode": {
    "name": "ipython",
    "version": 3
   },
   "file_extension": ".py",
   "mimetype": "text/x-python",
   "name": "python",
   "nbconvert_exporter": "python",
   "pygments_lexer": "ipython3",
   "version": "3.12.2"
  }
 },
 "nbformat": 4,
 "nbformat_minor": 2
}
