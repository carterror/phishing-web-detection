{
 "cells": [
  {
   "cell_type": "markdown",
   "metadata": {},
   "source": [
    "## Desarrollar las habilidades necesarias para poder programar el código para la obtención de\n",
    " soluciones a el cálculo de:\n",
    " - Media aritmética\n",
    " - Varianza\n",
    " - Desviación típica\n",
    " \n",
    " - Los métodos de clasificación estudiandos:\n",
    " - K-NN\n",
    " - Árboles de decisión\n",
    " - Perceptrón simple y su regla de entrenamiento.\n",
    " - Cálculo de determinantes de matrices cuadradas de segundo y tercer grado.\n",
    " - Solución de ecuaciones de segundo grado con coeficientes reales.\n",
    " - Solución de sistemas de ecuaciones de 2 y tercer grado por el método de Cramer (aplicando\n",
    " matrices)."
   ]
  },
  {
   "cell_type": "code",
   "execution_count": 1,
   "metadata": {},
   "outputs": [],
   "source": [
    "nums = [5,9,4,3,1,5,7,6,1,2,8,3,7]"
   ]
  },
  {
   "cell_type": "markdown",
   "metadata": {},
   "source": [
    "### Media aritmética"
   ]
  },
  {
   "cell_type": "code",
   "execution_count": 2,
   "metadata": {},
   "outputs": [
    {
     "data": {
      "text/plain": [
       "4.6923076923076925"
      ]
     },
     "execution_count": 2,
     "metadata": {},
     "output_type": "execute_result"
    }
   ],
   "source": [
    "cant = len(nums)\n",
    "suma = sum(nums)\n",
    "\n",
    "media = suma / cant\n",
    "\n",
    "media"
   ]
  },
  {
   "cell_type": "markdown",
   "metadata": {},
   "source": [
    "### Varianza"
   ]
  },
  {
   "cell_type": "code",
   "execution_count": 3,
   "metadata": {},
   "outputs": [
    {
     "data": {
      "text/plain": [
       "6.366863905325444"
      ]
     },
     "execution_count": 3,
     "metadata": {},
     "output_type": "execute_result"
    }
   ],
   "source": [
    "desviaciones_2 = []\n",
    "\n",
    "for i in nums:\n",
    "    desviaciones_2.append((i - media) ** 2)\n",
    "\n",
    "varianza = sum(desviaciones_2) / cant\n",
    "\n",
    "varianza"
   ]
  },
  {
   "cell_type": "markdown",
   "metadata": {},
   "source": [
    "## Desviación estandar"
   ]
  },
  {
   "cell_type": "code",
   "execution_count": 4,
   "metadata": {},
   "outputs": [
    {
     "data": {
      "text/plain": [
       "2.5232645333625734"
      ]
     },
     "execution_count": 4,
     "metadata": {},
     "output_type": "execute_result"
    }
   ],
   "source": [
    "desviacion = varianza ** (1/2)\n",
    "\n",
    "desviacion"
   ]
  },
  {
   "cell_type": "markdown",
   "metadata": {},
   "source": [
    "## K-NN"
   ]
  },
  {
   "cell_type": "code",
   "execution_count": 26,
   "metadata": {},
   "outputs": [
    {
     "name": "stdout",
     "output_type": "stream",
     "text": [
      "1\n"
     ]
    }
   ],
   "source": [
    "quest = (2.5, 2.5)\n",
    "k = 3\n",
    "entrada = [\n",
    "    (2, 0, 0),\n",
    "    (4, 4, 1),\n",
    "    (1, 1, 0),\n",
    "    (2, 4, 1),\n",
    "    (2, 2, 0),\n",
    "    (2, 3, 1),\n",
    "    (3, 4, 0),\n",
    "    (3, 3, 1),\n",
    "]\n",
    "\n",
    "distancias = []\n",
    "\n",
    "for i, v in enumerate(entrada):\n",
    "    dista = abs(v[0] - quest[0]) + abs(quest[1] - v[1])\n",
    "    distancias.append((i,dista))\n",
    "\n",
    "\n",
    "distancias.sort(key=lambda tup: tup[1])\n",
    "# for i, di in enumerate(distancias):\n",
    "#     for j, dj in enumerate(distancias):\n",
    "#         if di[1] < dj[1]:\n",
    "#             aux = distancias[i]\n",
    "#             distancias[i] = distancias[j]\n",
    "#             distancias[j] = aux\n",
    "\n",
    "ks = []\n",
    "\n",
    "for x in range(k):\n",
    "    ks.append(distancias[x][0])\n",
    "    \n",
    "kprimeros = []\n",
    "\n",
    "for i in ks:\n",
    "    kprimeros.append(entrada[i][2])\n",
    "    \n",
    "\n",
    "moda = 0\n",
    "\n",
    "for i in kprimeros:\n",
    "    if i == 1:\n",
    "        moda += 1\n",
    "    elif i == 0:\n",
    "        moda -= 1\n",
    "\n",
    "\n",
    "if moda > 0:\n",
    "    print(1)\n",
    "else: \n",
    "    print(0)\n"
   ]
  },
  {
   "cell_type": "markdown",
   "metadata": {},
   "source": [
    "## Determinante"
   ]
  },
  {
   "cell_type": "code",
   "execution_count": 27,
   "metadata": {},
   "outputs": [
    {
     "name": "stdout",
     "output_type": "stream",
     "text": [
      "-217.00000000000003\n"
     ]
    }
   ],
   "source": [
    "from numpy.linalg import det\n",
    "\n",
    "matrix = [\n",
    "    [-2, 4, 5],\n",
    "    [6, 7, -3],\n",
    "    [3, 0, 2]\n",
    "]\n",
    "\n",
    "print(det(matrix))\n"
   ]
  }
 ],
 "metadata": {
  "kernelspec": {
   "display_name": "venv",
   "language": "python",
   "name": "python3"
  },
  "language_info": {
   "codemirror_mode": {
    "name": "ipython",
    "version": 3
   },
   "file_extension": ".py",
   "mimetype": "text/x-python",
   "name": "python",
   "nbconvert_exporter": "python",
   "pygments_lexer": "ipython3",
   "version": "3.12.0"
  }
 },
 "nbformat": 4,
 "nbformat_minor": 2
}
