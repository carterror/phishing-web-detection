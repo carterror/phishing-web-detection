{
 "cells": [
  {
   "cell_type": "markdown",
   "metadata": {},
   "source": [
    "# Proyecto: Detección de Sitios Web de Phishing usando Aprendizaje Automático\n",
    "\n",
    "### Dataset Selecionado\n",
    "Mohammad,Rami and McCluskey,Lee. (2015). Phishing Websites. UCI Machine Learning Repository. https://doi.org/10.24432/C51W2X.\n",
    "\n",
    "### 1. Primero, asegúrate de tener instaladas las bibliotecas necesarias. Ejecuta este comando en una celda de Jupyter Notebook Google Coolab:"
   ]
  },
  {
   "cell_type": "code",
   "execution_count": null,
   "metadata": {},
   "outputs": [],
   "source": [
    "#!pip install scipy pandas scikit-learn numpy"
   ]
  },
  {
   "cell_type": "markdown",
   "metadata": {},
   "source": [
    "En este caso se trabajo en un entorno virtual de python con el IDE Visual Studio Code y todas las dependencias se encuentran en archivo `requirements.txt`\n",
    "\n",
    "##### Las extensiones utilizadas son: `ms-toolsai.jupyter`\n",
    "- Name: Jupyter\n",
    "- Id: ms-toolsai.jupyter\n",
    "- Description: Jupyter notebook support, interactive programming and computing that supports Intellisense, debugging and more.\n",
    "- Version: 2024.4.0\n",
    "- Publisher: Microsoft\n",
    "- VS Marketplace Link: https://marketplace.visualstudio.com/items?itemName=ms-toolsai.jupyter\n",
    "\n",
    "En consola de Sistema operativo:"
   ]
  },
  {
   "cell_type": "code",
   "execution_count": 21,
   "metadata": {},
   "outputs": [
    {
     "ename": "SyntaxError",
     "evalue": "invalid syntax (2733344731.py, line 1)",
     "output_type": "error",
     "traceback": [
      "\u001b[1;36m  Cell \u001b[1;32mIn[21], line 1\u001b[1;36m\u001b[0m\n\u001b[1;33m    python v\u001b[0m\n\u001b[1;37m           ^\u001b[0m\n\u001b[1;31mSyntaxError\u001b[0m\u001b[1;31m:\u001b[0m invalid syntax\n"
     ]
    }
   ],
   "source": [
    "## Esto en consola\n",
    "## crear entorno virtual con python\n",
    "#python -m venv venv\n",
    "\n",
    "## instalar dependencias\n",
    "#pip install -r requirements.txt"
   ]
  },
  {
   "cell_type": "markdown",
   "metadata": {},
   "source": [
    "## 2. Importación de Bibliotecas\n",
    "A continuación, importa las bibliotecas que utilizarás en el proyecto:\n",
    "\n",
    "- `pandas` se utiliza para manipulación de datos.\n",
    "- `arff` de scipy.io se usa para cargar archivos .arff.\n",
    "- `train_test_split` de sklearn.model_selection divide el conjunto de datos.\n",
    "- `RandomForestClassifier` es el modelo de clasificación.\n",
    "- `classification_report` evalúa el rendimiento del modelo."
   ]
  },
  {
   "cell_type": "code",
   "execution_count": 20,
   "metadata": {},
   "outputs": [],
   "source": [
    "import pandas as pd\n",
    "from scipy.io import arff\n",
    "from sklearn.model_selection import train_test_split\n",
    "from sklearn.ensemble import RandomForestClassifier\n",
    "from sklearn.metrics import classification_report\n"
   ]
  },
  {
   "cell_type": "markdown",
   "metadata": {},
   "source": [
    "## 3. Carga del Archivo .arff\n",
    "Carga los datos desde el archivo .arff y conviértelos a un DataFrame de pandas para facilitar su manipulación:\n",
    "\n",
    "Este bloque de código carga los datos y los convierte en un DataFrame de pandas, lo que facilita su análisis y procesamiento posterior."
   ]
  },
  {
   "cell_type": "code",
   "execution_count": 22,
   "metadata": {},
   "outputs": [],
   "source": [
    "# Cargar el archivo .arff\n",
    "data, meta = arff.loadarff('TrainingDataset.arff')\n",
    "\n",
    "# Convertir a DataFrame de pandas\n",
    "df = pd.DataFrame(data)"
   ]
  },
  {
   "cell_type": "markdown",
   "metadata": {},
   "source": [
    "## 4. Decodificación de Columnas\n",
    "Las columnas categóricas están en formato byte y deben ser convertidas a strings:\n",
    "\n",
    "Este paso asegura que las columnas categóricas se manejen correctamente en Python."
   ]
  },
  {
   "cell_type": "code",
   "execution_count": null,
   "metadata": {},
   "outputs": [],
   "source": [
    "# Convertir las columnas categóricas de bytes a strings\n",
    "for column in df.columns:\n",
    "    if df[column].dtype == object:\n",
    "        df[column] = df[column].str.decode('utf-8')"
   ]
  },
  {
   "cell_type": "markdown",
   "metadata": {},
   "source": [
    "## 5. Separación de Características y Etiquetas\n",
    "Separa las características (X) de la etiqueta (y):\n",
    "\n",
    "En este paso, X contiene todas las características o atributos y y contiene las etiquetas de clasificación o target."
   ]
  },
  {
   "cell_type": "code",
   "execution_count": null,
   "metadata": {},
   "outputs": [],
   "source": [
    "# Separar características y etiquetas\n",
    "X = df.drop('Result', axis=1)\n",
    "y = df['Result']"
   ]
  },
  {
   "cell_type": "markdown",
   "metadata": {},
   "source": [
    "## 6. División del Conjunto de Datos\n",
    "Divide los datos en conjuntos de entrenamiento y prueba:\n",
    "\n",
    "Este bloque divide los datos, reservando el 20% para pruebas y el 80% para entrenamiento."
   ]
  },
  {
   "cell_type": "code",
   "execution_count": null,
   "metadata": {},
   "outputs": [],
   "source": [
    "# Dividir en conjuntos de entrenamiento y prueba\n",
    "X_train, X_test, y_train, y_test = train_test_split(X, y, test_size=0.2, random_state=42)\n"
   ]
  },
  {
   "cell_type": "markdown",
   "metadata": {},
   "source": [
    "## 7. Entrenamiento del Modelo\n",
    "Entrena un modelo de clasificación Random Forest:\n",
    "\n",
    "Aquí, el modelo Random Forest se entrena utilizando los datos de entrenamiento."
   ]
  },
  {
   "cell_type": "code",
   "execution_count": null,
   "metadata": {},
   "outputs": [],
   "source": [
    "# Entrenar el modelo\n",
    "model = RandomForestClassifier()\n",
    "model.fit(X_train, y_train)"
   ]
  },
  {
   "cell_type": "markdown",
   "metadata": {},
   "source": [
    "## 8. Predicción y Evaluación\n",
    "Predice y evalúa el modelo con el conjunto de prueba:\n",
    "\n",
    "Este código predice las etiquetas para los datos de prueba y luego imprime un reporte de clasificación que incluye métricas como precisión, recall y F1-score."
   ]
  },
  {
   "cell_type": "code",
   "execution_count": null,
   "metadata": {},
   "outputs": [],
   "source": [
    "# Predecir y evaluar\n",
    "y_pred = model.predict(X_test)\n",
    "print(classification_report(y_test, y_pred))"
   ]
  },
  {
   "cell_type": "code",
   "execution_count": null,
   "metadata": {},
   "outputs": [],
   "source": [
    "# Crear un diccionario con los datos de entrada\n",
    "nuevos_datos = {\n",
    "    'having_IP_Address': [-1],\n",
    "    'URL_Length': [1],\n",
    "    'Shortining_Service': [1],\n",
    "    'having_At_Symbol': [1],\n",
    "    'double_slash_redirecting': [-1],\n",
    "    'Prefix_Suffix': [-1],\n",
    "    'having_Sub_Domain': [-1],\n",
    "    'SSLfinal_State': [-1],\n",
    "    'Domain_registeration_length': [-1],\n",
    "    'Favicon': [1],\n",
    "    'port': [1],\n",
    "    'HTTPS_token': [-1],\n",
    "    'Request_URL': [1],\n",
    "    'URL_of_Anchor': [-1],\n",
    "    'Links_in_tags': [1],\n",
    "    'SFH': [-1],\n",
    "    'Submitting_to_email': [-1],\n",
    "    'Abnormal_URL': [-1],\n",
    "    'Redirect': [-1],\n",
    "    'on_mouseover': [1],\n",
    "    'RightClick': [1],\n",
    "    'popUpWidnow': [1],\n",
    "    'Iframe': [-1],\n",
    "    'age_of_domain': [1],\n",
    "    'DNSRecord': [1],\n",
    "    'web_traffic': [1],\n",
    "    'Page_Rank': [-1],\n",
    "    'Google_Index': [-1],\n",
    "    'Links_pointing_to_page': [-1],\n",
    "    'Statistical_report': [1]\n",
    "}\n",
    "\n",
    "# Crear un DataFrame a partir del diccionario de datos\n",
    "nuevos_datos_df = pd.DataFrame(nuevos_datos)\n",
    "\n",
    "# Realizar la predicción utilizando el modelo entrenado\n",
    "prediccion = model.predict(nuevos_datos_df)\n",
    "\n",
    "# Imprimir la predicción\n",
    "print(prediccion)"
   ]
  }
 ],
 "metadata": {
  "kernelspec": {
   "display_name": "venv",
   "language": "python",
   "name": "python3"
  },
  "language_info": {
   "codemirror_mode": {
    "name": "ipython",
    "version": 3
   },
   "file_extension": ".py",
   "mimetype": "text/x-python",
   "name": "python",
   "nbconvert_exporter": "python",
   "pygments_lexer": "ipython3",
   "version": "3.12.2"
  }
 },
 "nbformat": 4,
 "nbformat_minor": 2
}
