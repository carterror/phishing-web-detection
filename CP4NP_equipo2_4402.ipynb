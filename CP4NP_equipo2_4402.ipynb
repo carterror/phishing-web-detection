{
  "cells": [
    {
      "cell_type": "markdown",
      "metadata": {
        "id": "ouOKQNLaaEfa"
      },
      "source": [
        "# Clase Práctica 8 - Preprocesamiento de datos\n",
        "\n",
        "## Equipo #2\n",
        "\n",
        "[Enlace GitHub](https://github.com/carterror/phishing-web-detection/blob/main/CP8NP.ipynb)"
      ]
    },
    {
      "cell_type": "code",
      "execution_count": 1,
      "metadata": {},
      "outputs": [],
      "source": [
        "import os\n",
        "FOLDER = 'cp4np/'\n",
        "\n",
        "if not os.path.exists(FOLDER):\n",
        "    os.makedirs(FOLDER)"
      ]
    },
    {
      "cell_type": "code",
      "execution_count": 2,
      "metadata": {},
      "outputs": [],
      "source": [
        "import requests as http\n",
        "\n",
        "url = 'https://raw.githubusercontent.com/carterror/phishing-web-detection/main/cp4np/'\n",
        "\n",
        "csvs = ['credit.csv', 'iris.csv', 'labor.csv', 'land_mines.csv']\n",
        "\n",
        "for x in csvs:\n",
        "    resp = http.get(url+x)\n",
        "\n",
        "    with open(FOLDER+x, 'wb') as archivo:\n",
        "        archivo.write(resp.content)"
      ]
    },
    {
      "cell_type": "code",
      "execution_count": 3,
      "metadata": {
        "colab": {
          "base_uri": "https://localhost:8080/",
          "height": 78
        },
        "id": "O3qxFSItc3oc",
        "outputId": "23413609-550e-4cb5-d299-6641fd459b28"
      },
      "outputs": [],
      "source": [
        "# from google.colab import files\n",
        "# uploaded = files.upload()"
      ]
    },
    {
      "cell_type": "markdown",
      "metadata": {
        "id": "nDgHP5CjaLee"
      },
      "source": [
        "## Ejercicio 1\n",
        "Dado el conjunto de datos que se carga a continuación, realice un estudio exploratorio de los datos y responda las siguientes preguntas:\n",
        "\n",
        "a) ¿Cuántas instancias tiene?\n",
        "\n",
        "b) ¿Cuántos atributos tiene?\n",
        "\n",
        "c) ¿Diga cuántos datos perdidos tiene cada atributo?\n",
        "\n",
        "d) ¿Están igualmente distribuidas las clases a clasificar?\n"
      ]
    },
    {
      "cell_type": "code",
      "execution_count": 4,
      "metadata": {
        "colab": {
          "base_uri": "https://localhost:8080/",
          "height": 424
        },
        "id": "FvjikqpzaUpe",
        "outputId": "04b0dc8e-6686-4c77-d0f7-f17358e615e3"
      },
      "outputs": [
        {
          "name": "stdout",
          "output_type": "stream",
          "text": [
            "a) ¿Cuántas instancias tiene?: 693 \n",
            "\n",
            "b) ¿Cuántos atributos tiene?: 16 \n",
            "\n",
            "c) ¿Diga cuántos datos perdidos tiene cada atributo?:\n",
            "A1     0\n",
            "A2     3\n",
            "A3     3\n",
            "A4     3\n",
            "A5     3\n",
            "A6     3\n",
            "A7     3\n",
            "A8     3\n",
            "A9     3\n",
            "A10    3\n",
            "A11    3\n",
            "A12    3\n",
            "A13    3\n",
            "A14    3\n",
            "A15    3\n",
            "A16    3\n",
            "dtype: int64 \n",
            "\n",
            "d) ¿Están igualmente distribuidas las clases a clasificar?\n",
            "A16\n",
            "-    383\n",
            "+    307\n",
            "Name: count, dtype: int64\n"
          ]
        }
      ],
      "source": [
        "import pandas as pd\n",
        "df = pd.read_csv(FOLDER+\"credit.csv\")\n",
        "\n",
        "# a) ¿Cuántas instancias tiene?\n",
        "num_instancias = df.shape[0]\n",
        "print(f'a) ¿Cuántas instancias tiene?: {num_instancias}','\\n')\n",
        "\n",
        "# b) ¿Cuántos atributos tiene?\n",
        "num_atributos = df.shape[1]\n",
        "print(f'b) ¿Cuántos atributos tiene?: {num_atributos}','\\n')\n",
        "\n",
        "# c) ¿Diga cuántos datos perdidos tiene cada atributo?\n",
        "datos_perdidos = df.isnull().sum()\n",
        "print('c) ¿Diga cuántos datos perdidos tiene cada atributo?:')\n",
        "print(datos_perdidos,'\\n')\n",
        "\n",
        "# d) ¿Están igualmente distribuidas las clases a clasificar?\n",
        "distribucion_clases = df['A16'].value_counts()\n",
        "print('d) ¿Están igualmente distribuidas las clases a clasificar?')\n",
        "print(distribucion_clases)"
      ]
    },
    {
      "cell_type": "markdown",
      "metadata": {
        "id": "TLjYNfe3cVZG"
      },
      "source": [
        "## Ejercicio 2\n",
        "En el conjunto de datos iris.csv se desea que usted realice un procesamiento de los datos del atributo sepallength.\n",
        "\n",
        "a) Muestre como queda el conjunto de datos\n",
        "\n",
        "b) Cree necesario realizar algún otro tipo de preprocesamiento.\n"
      ]
    },
    {
      "cell_type": "code",
      "execution_count": 5,
      "metadata": {
        "colab": {
          "base_uri": "https://localhost:8080/",
          "height": 424
        },
        "id": "VtYmVucWci2O",
        "outputId": "2b9f54b8-6fef-417f-ae42-1a771959e068"
      },
      "outputs": [
        {
          "name": "stdout",
          "output_type": "stream",
          "text": [
            "a) Muestre como queda el conjunto de datos:\n",
            "b) Cree necesario realizar algún otro tipo de preprocesamiento: \n",
            " No creo necesario despues de una Discretización por el atributo sepallength ya que por la clase podría inferir que se trata de un modelo de clasificación\n"
          ]
        },
        {
          "data": {
            "text/html": [
              "<div>\n",
              "<style scoped>\n",
              "    .dataframe tbody tr th:only-of-type {\n",
              "        vertical-align: middle;\n",
              "    }\n",
              "\n",
              "    .dataframe tbody tr th {\n",
              "        vertical-align: top;\n",
              "    }\n",
              "\n",
              "    .dataframe thead th {\n",
              "        text-align: right;\n",
              "    }\n",
              "</style>\n",
              "<table border=\"1\" class=\"dataframe\">\n",
              "  <thead>\n",
              "    <tr style=\"text-align: right;\">\n",
              "      <th></th>\n",
              "      <th>sepallength</th>\n",
              "      <th>sepalwidth</th>\n",
              "      <th>petallength</th>\n",
              "      <th>petalwidth</th>\n",
              "      <th>class</th>\n",
              "    </tr>\n",
              "  </thead>\n",
              "  <tbody>\n",
              "    <tr>\n",
              "      <th>0</th>\n",
              "      <td>corto</td>\n",
              "      <td>3.5</td>\n",
              "      <td>1.4</td>\n",
              "      <td>0.2</td>\n",
              "      <td>Iris-setosa</td>\n",
              "    </tr>\n",
              "    <tr>\n",
              "      <th>1</th>\n",
              "      <td>corto</td>\n",
              "      <td>3.0</td>\n",
              "      <td>1.4</td>\n",
              "      <td>0.2</td>\n",
              "      <td>Iris-setosa</td>\n",
              "    </tr>\n",
              "    <tr>\n",
              "      <th>2</th>\n",
              "      <td>corto</td>\n",
              "      <td>3.2</td>\n",
              "      <td>1.3</td>\n",
              "      <td>0.2</td>\n",
              "      <td>Iris-setosa</td>\n",
              "    </tr>\n",
              "    <tr>\n",
              "      <th>3</th>\n",
              "      <td>corto</td>\n",
              "      <td>3.1</td>\n",
              "      <td>1.5</td>\n",
              "      <td>0.2</td>\n",
              "      <td>Iris-setosa</td>\n",
              "    </tr>\n",
              "    <tr>\n",
              "      <th>4</th>\n",
              "      <td>corto</td>\n",
              "      <td>3.6</td>\n",
              "      <td>1.4</td>\n",
              "      <td>0.2</td>\n",
              "      <td>Iris-setosa</td>\n",
              "    </tr>\n",
              "    <tr>\n",
              "      <th>...</th>\n",
              "      <td>...</td>\n",
              "      <td>...</td>\n",
              "      <td>...</td>\n",
              "      <td>...</td>\n",
              "      <td>...</td>\n",
              "    </tr>\n",
              "    <tr>\n",
              "      <th>145</th>\n",
              "      <td>mediano</td>\n",
              "      <td>3.0</td>\n",
              "      <td>5.2</td>\n",
              "      <td>2.3</td>\n",
              "      <td>Iris-virginica</td>\n",
              "    </tr>\n",
              "    <tr>\n",
              "      <th>146</th>\n",
              "      <td>mediano</td>\n",
              "      <td>2.5</td>\n",
              "      <td>5.0</td>\n",
              "      <td>1.9</td>\n",
              "      <td>Iris-virginica</td>\n",
              "    </tr>\n",
              "    <tr>\n",
              "      <th>147</th>\n",
              "      <td>mediano</td>\n",
              "      <td>3.0</td>\n",
              "      <td>5.2</td>\n",
              "      <td>2.0</td>\n",
              "      <td>Iris-virginica</td>\n",
              "    </tr>\n",
              "    <tr>\n",
              "      <th>148</th>\n",
              "      <td>mediano</td>\n",
              "      <td>3.4</td>\n",
              "      <td>5.4</td>\n",
              "      <td>2.3</td>\n",
              "      <td>Iris-virginica</td>\n",
              "    </tr>\n",
              "    <tr>\n",
              "      <th>149</th>\n",
              "      <td>mediano</td>\n",
              "      <td>3.0</td>\n",
              "      <td>5.1</td>\n",
              "      <td>1.8</td>\n",
              "      <td>Iris-virginica</td>\n",
              "    </tr>\n",
              "  </tbody>\n",
              "</table>\n",
              "<p>150 rows × 5 columns</p>\n",
              "</div>"
            ],
            "text/plain": [
              "    sepallength   sepalwidth   petallength   petalwidth           class\n",
              "0         corto          3.5           1.4          0.2     Iris-setosa\n",
              "1         corto          3.0           1.4          0.2     Iris-setosa\n",
              "2         corto          3.2           1.3          0.2     Iris-setosa\n",
              "3         corto          3.1           1.5          0.2     Iris-setosa\n",
              "4         corto          3.6           1.4          0.2     Iris-setosa\n",
              "..          ...          ...           ...          ...             ...\n",
              "145     mediano          3.0           5.2          2.3  Iris-virginica\n",
              "146     mediano          2.5           5.0          1.9  Iris-virginica\n",
              "147     mediano          3.0           5.2          2.0  Iris-virginica\n",
              "148     mediano          3.4           5.4          2.3  Iris-virginica\n",
              "149     mediano          3.0           5.1          1.8  Iris-virginica\n",
              "\n",
              "[150 rows x 5 columns]"
            ]
          },
          "execution_count": 5,
          "metadata": {},
          "output_type": "execute_result"
        }
      ],
      "source": [
        "import pandas as pd\n",
        "df_iris = pd.read_csv(FOLDER+\"iris.csv\")\n",
        "\n",
        "df_iris['sepallength'] = pd.cut(df_iris['sepallength'], bins=3, labels=['corto', 'mediano', 'largo'])\n",
        "\n",
        "print('a) Muestre como queda el conjunto de datos:')\n",
        "print('b) Cree necesario realizar algún otro tipo de preprocesamiento: \\n No creo necesario despues de una Discretización por el atributo sepallength ya que por la clase podría inferir que se trata de un modelo de clasificación')\n",
        "df_iris"
      ]
    },
    {
      "cell_type": "markdown",
      "metadata": {
        "id": "Pcas5eD9dhKS"
      },
      "source": [
        "## Ejercicio 3\n",
        "Con el conjunto de datos \"labor.csv\" se utiliza para conocer los acuerdos finales en las negociaciones laborales de la industria canadiense. Se desea utilizar un algoritmo de árboles de decisión para poder clasificar dada una situación nueva como sería el acuerdo final.\n",
        "\n",
        "a) Realice un estudio exploratorio de los datos de este conjunto y diga que problemas detecta.\n",
        "\n",
        "b) ¿Qué acciones de preprocesamiento debemos realizar para que este conjunto de datos esté listo para ser usado por ese algoritmo?\n",
        "\n",
        "c) Aplique el procesamiento necesario y muestre como queda finalmente este conjunto de datos.\n",
        "\n",
        "**Nota**: Los valores faltantes están marcados por el símbolo '?'."
      ]
    },
    {
      "cell_type": "code",
      "execution_count": 6,
      "metadata": {
        "colab": {
          "base_uri": "https://localhost:8080/",
          "height": 1000
        },
        "id": "wQVCWbCyeg_x",
        "outputId": "67acc3d6-f405-46a8-efe2-bcb815eb96eb"
      },
      "outputs": [
        {
          "name": "stdout",
          "output_type": "stream",
          "text": [
            "Claramente se observan demasiados datos nulos\n",
            "<class 'pandas.core.frame.DataFrame'>\n",
            "RangeIndex: 57 entries, 0 to 56\n",
            "Data columns (total 17 columns):\n",
            " #   Column                           Non-Null Count  Dtype  \n",
            "---  ------                           --------------  -----  \n",
            " 0   duration                         56 non-null     float64\n",
            " 1    wage-increase-first-year        56 non-null     float64\n",
            " 2    wage-increase-second-year       46 non-null     float64\n",
            " 3    wage-increase-third-year        15 non-null     float64\n",
            " 4    cost-of-living-adjustment       37 non-null     object \n",
            " 5    working-hours                   51 non-null     float64\n",
            " 6    pension                         27 non-null     object \n",
            " 7    standby-pay                     9 non-null      float64\n",
            " 8    shift-differential              31 non-null     float64\n",
            " 9    education-allowance             22 non-null     object \n",
            " 10   statutory-holidays              53 non-null     float64\n",
            " 11   vacation                        51 non-null     object \n",
            " 12   longterm-disability-assistance  28 non-null     object \n",
            " 13   contribution-to-dental-plan     37 non-null     object \n",
            " 14   bereavement-assistance          30 non-null     object \n",
            " 15   contribution-to-health-plan     37 non-null     object \n",
            " 16   class                           57 non-null     object \n",
            "dtypes: float64(8), object(9)\n",
            "memory usage: 7.7+ KB\n",
            "None \n",
            "\n",
            "<class 'pandas.core.frame.DataFrame'>\n",
            "RangeIndex: 57 entries, 0 to 56\n",
            "Data columns (total 20 columns):\n",
            " #   Column                           Non-Null Count  Dtype \n",
            "---  ------                           --------------  ----- \n",
            " 0   duration                         57 non-null     object\n",
            " 1    wage-increase-first-year        57 non-null     object\n",
            " 2    wage-increase-second-year       57 non-null     object\n",
            " 3    wage-increase-third-year        57 non-null     object\n",
            " 4    working-hours                   57 non-null     object\n",
            " 5    standby-pay                     57 non-null     object\n",
            " 6    shift-differential              57 non-null     object\n",
            " 7    statutory-holidays              57 non-null     object\n",
            " 8    cost-of-living-adjustment       57 non-null     object\n",
            " 9    working-hours                   57 non-null     object\n",
            " 10   pension                         57 non-null     object\n",
            " 11   standby-pay                     57 non-null     object\n",
            " 12   shift-differential              57 non-null     object\n",
            " 13   education-allowance             57 non-null     object\n",
            " 14   statutory-holidays              57 non-null     object\n",
            " 15   vacation                        57 non-null     object\n",
            " 16   longterm-disability-assistance  57 non-null     object\n",
            " 17   contribution-to-dental-plan     57 non-null     object\n",
            " 18   bereavement-assistance          57 non-null     object\n",
            " 19   contribution-to-health-plan     57 non-null     object\n",
            "dtypes: object(20)\n",
            "memory usage: 9.0+ KB\n",
            "None\n"
          ]
        }
      ],
      "source": [
        "import pandas as pd\n",
        "from sklearn.impute import SimpleImputer\n",
        "from sklearn.compose import ColumnTransformer\n",
        "\n",
        "# con la sobre alerta que muestra del simbolo ? ese seria el primer problema y su solucion seria esta del atributo na_values='?' para hacer que sean nulos para tomar una desicion a posteriori\n",
        "df = pd.read_csv(FOLDER+\"labor.csv\", na_values='?')\n",
        "\n",
        "print('Claramente se observan demasiados datos nulos')\n",
        "print(df.info(), '\\n')\n",
        "\n",
        "# Define las columnas que deseas imputar con la media\n",
        "columnas_medias = [\n",
        "    'duration',\n",
        "    ' wage-increase-first-year',\n",
        "    ' wage-increase-second-year',\n",
        "    ' wage-increase-third-year',\n",
        "    ' working-hours',\n",
        "    ' standby-pay',\n",
        "    ' shift-differential',\n",
        "    ' statutory-holidays'\n",
        "]  # Reemplaza con los nombres de tus columnas\n",
        "\n",
        "\n",
        "# Define las columnas que deseas imputar con el valor más frecuente\n",
        "columnas_frecuentes = [\n",
        "    ' cost-of-living-adjustment',\n",
        "    ' working-hours',\n",
        "    ' pension',\n",
        "    ' standby-pay',\n",
        "    ' shift-differential',\n",
        "    ' education-allowance',\n",
        "    ' statutory-holidays',\n",
        "    ' vacation',\n",
        "    ' longterm-disability-assistance',\n",
        "    ' contribution-to-dental-plan',\n",
        "    ' bereavement-assistance',\n",
        "    ' contribution-to-health-plan'\n",
        "]  # Reemplaza con los nombres de tus columnas\n",
        "\n",
        "\n",
        "# Imputador univariado para completar valores faltantes con estrategias simples.\n",
        "#Reemplace los valores faltantes usando una estadística descriptiva (por ejemplo, mean(media), median(mediana) o most_frecuently(más frecuente)) a lo largo de cada columna, o usando un valor constante\n",
        "# Crea los imputadores\n",
        "mean_imputer = SimpleImputer(strategy='mean')\n",
        "freq_imputer = SimpleImputer(strategy='most_frequent')\n",
        "\n",
        "# Crea el transformador de columnas\n",
        "preprocessor = ColumnTransformer(\n",
        "    transformers=[\n",
        "        ('mean_imputer', mean_imputer, columnas_medias),\n",
        "        ('freq_imputer', freq_imputer, columnas_frecuentes)])\n",
        "\n",
        "\n",
        "df_imputed = pd.DataFrame(preprocessor.fit_transform(df), columns=columnas_medias+columnas_frecuentes)\n",
        "\n",
        "print(df_imputed.info())"
      ]
    },
    {
      "cell_type": "markdown",
      "metadata": {
        "id": "Drw-IGJmfxqs"
      },
      "source": [
        "## Ejercicio 4\n",
        "\n",
        "Se desea utilizar un conjunto de datos 'land_mines.csv'. Se desea saber si este conjunto de datos posee datos anómalos."
      ]
    },
    {
      "cell_type": "code",
      "execution_count": 7,
      "metadata": {
        "colab": {
          "base_uri": "https://localhost:8080/",
          "height": 424
        },
        "id": "JERQk4CDkKWi",
        "outputId": "47f42a45-3d6c-42f6-cd5e-988d7e3dd1e5"
      },
      "outputs": [
        {
          "name": "stdout",
          "output_type": "stream",
          "text": [
            "Se ven datos anomalos en la columna V\n",
            "        V      H      S      M\n",
            "47   True  False  False  False\n",
            "48   True  False  False  False\n",
            "49   True  False  False  False\n",
            "50   True  False  False  False\n",
            "55   True  False  False  False\n",
            "56   True  False  False  False\n",
            "57   True  False  False  False\n",
            "58   True  False  False  False\n",
            "70   True  False  False  False\n",
            "71   True  False  False  False\n",
            "72   True  False  False  False\n",
            "73   True  False  False  False\n",
            "78   True  False  False  False\n",
            "79   True  False  False  False\n",
            "80   True  False  False  False\n",
            "81   True  False  False  False\n",
            "82   True  False  False  False\n",
            "83   True  False  False  False\n",
            "86   True  False  False  False\n",
            "87   True  False  False  False\n",
            "88   True  False  False  False\n",
            "89   True  False  False  False\n",
            "249  True  False  False  False\n",
            "250  True  False  False  False\n",
            "253  True  False  False  False\n",
            "260  True  False  False  False\n",
            "264  True  False  False  False\n",
            "265  True  False  False  False\n",
            "266  True  False  False  False\n",
            "268  True  False  False  False\n",
            "269  True  False  False  False\n",
            "290  True  False  False  False\n"
          ]
        }
      ],
      "source": [
        "import pandas as pd\n",
        "df = pd.read_csv(f\"{FOLDER}land_mines.csv\")\n",
        "\n",
        "# Calculando el IQR\n",
        "Q1 = df.quantile(0.25)\n",
        "Q3 = df.quantile(0.75)\n",
        "IQR = Q3 - Q1\n",
        "\n",
        "# Identificando los valores atípicos\n",
        "outliers = (df < (Q1 - 1.5 * IQR)) | (df > (Q3 + 1.5 * IQR))\n",
        "\n",
        "print('Se ven datos anomalos en la columna V')\n",
        "\n",
        "# Imprimiendo los valores atípicos\n",
        "print(outliers.loc[(outliers == True).any(axis=1)])\n"
      ]
    }
  ],
  "metadata": {
    "colab": {
      "provenance": []
    },
    "kernelspec": {
      "display_name": "Python 3",
      "name": "python3"
    },
    "language_info": {
      "codemirror_mode": {
        "name": "ipython",
        "version": 3
      },
      "file_extension": ".py",
      "mimetype": "text/x-python",
      "name": "python",
      "nbconvert_exporter": "python",
      "pygments_lexer": "ipython3",
      "version": "3.12.0"
    }
  },
  "nbformat": 4,
  "nbformat_minor": 0
}
